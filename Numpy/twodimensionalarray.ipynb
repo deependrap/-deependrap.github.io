{
 "cells": [
  {
   "cell_type": "code",
   "execution_count": 3,
   "metadata": {
    "scrolled": true
   },
   "outputs": [
    {
     "name": "stdout",
     "output_type": "stream",
     "text": [
      "Dimension of Array:  2\n"
     ]
    }
   ],
   "source": [
    "import numpy as np\n",
    "a=[[1,2,3,4],[6,3,2,5],[7,6,8,9]]\n",
    "arr=np.array(a)\n",
    "print(\"Dimension of Array: \", arr.ndim)"
   ]
  },
  {
   "cell_type": "code",
   "execution_count": 4,
   "metadata": {},
   "outputs": [
    {
     "name": "stdout",
     "output_type": "stream",
     "text": [
      "Shape of Array:  (3, 4)\n"
     ]
    }
   ],
   "source": [
    "import numpy as np\n",
    "a=[[1,2,3,4],[6,3,2,5],[7,6,8,9]]\n",
    "arr=np.array(a)\n",
    "print(\"Shape of Array: \", arr.shape)"
   ]
  }
 ],
 "metadata": {
  "kernelspec": {
   "display_name": "Python 3",
   "language": "python",
   "name": "python3"
  },
  "language_info": {
   "codemirror_mode": {
    "name": "ipython",
    "version": 3
   },
   "file_extension": ".py",
   "mimetype": "text/x-python",
   "name": "python",
   "nbconvert_exporter": "python",
   "pygments_lexer": "ipython3",
   "version": "3.8.3"
  }
 },
 "nbformat": 4,
 "nbformat_minor": 4
}
