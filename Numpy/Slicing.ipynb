{
 "cells": [
  {
   "cell_type": "code",
   "execution_count": 6,
   "metadata": {},
   "outputs": [
    {
     "name": "stdout",
     "output_type": "stream",
     "text": [
      "Enter Size of Array: 5\n",
      "Enter Values of Array2\n",
      "Enter Values of Array4\n",
      "Enter Values of Array6\n",
      "Enter Values of Array7\n",
      "Enter Values of Array8\n",
      "2\n",
      "4\n",
      "6\n",
      "7\n",
      "8\n",
      "Sum of array elements is  27\n",
      "New array is  [4 6]\n",
      "New array is  [4 6 7 8]\n",
      "New array is  [2 4 6]\n"
     ]
    }
   ],
   "source": [
    "import numpy as np\n",
    "a=[]\n",
    "n=int(input(\"Enter Size of Array: \"))\n",
    "for i in range(n):\n",
    "    val=int(input(\"Enter Values of Array\"))\n",
    "    a.append(val)\n",
    "arr=np.array(a)\n",
    "sum=0\n",
    "for i in range(arr.size):\n",
    "    print(arr[i])\n",
    "    sum=sum+arr[i]\n",
    "print(\"Sum of array elements is \", sum)\n",
    "arr1=arr[1:3]\n",
    "arr2=arr[1:]\n",
    "arr3=arr[:3]\n",
    "print(\"New array is \", arr1)\n",
    "print(\"New array is \", arr2)\n",
    "print(\"New array is \", arr3)    "
   ]
  }
 ],
 "metadata": {
  "kernelspec": {
   "display_name": "Python 3",
   "language": "python",
   "name": "python3"
  },
  "language_info": {
   "codemirror_mode": {
    "name": "ipython",
    "version": 3
   },
   "file_extension": ".py",
   "mimetype": "text/x-python",
   "name": "python",
   "nbconvert_exporter": "python",
   "pygments_lexer": "ipython3",
   "version": "3.8.3"
  }
 },
 "nbformat": 4,
 "nbformat_minor": 4
}
