{
 "cells": [
  {
   "cell_type": "code",
   "execution_count": 2,
   "metadata": {
    "scrolled": true
   },
   "outputs": [
    {
     "name": "stdout",
     "output_type": "stream",
     "text": [
      "Enter Size of Array: 4\n",
      "Enter Values of Array3\n",
      "Enter Values of Array5\n",
      "Enter Values of Array6\n",
      "Enter Values of Array3\n",
      "3\n",
      "5\n",
      "6\n",
      "3\n",
      "Sum of array elements is  17\n"
     ]
    }
   ],
   "source": [
    "import numpy as np\n",
    "a=[]\n",
    "n=int(input(\"Enter Size of Array: \"))\n",
    "for i in range(n):\n",
    "    val=int(input(\"Enter Values of Array\"))\n",
    "    a.append(val)\n",
    "arr=np.array(a)\n",
    "sum=0\n",
    "for i in range(arr.size):\n",
    "    print(arr[i])\n",
    "    sum=sum+arr[i]\n",
    "print(\"Sum of array elements is \", sum)\n",
    "\n",
    "    "
   ]
  },
  {
   "cell_type": "markdown",
   "metadata": {},
   "source": [
    "#### slicing \n",
    "import numpy as np\n",
    "a=[]\n",
    "n=int(input(\"Enter Size of Array: \"))\n",
    "for i in range(n):\n",
    "    val=int(input(\"Enter Values of Array\"))\n",
    "    a.append(val)\n",
    "arr=np.array(a)\n",
    "sum=0\n",
    "for i in range(arr.size):\n",
    "    print(arr[i])\n",
    "    sum=sum+arr[i]\n",
    "print(\"Sum of array elements is \", sum)\n",
    "arr1= arr[2:3]\n",
    "print(\"New array is \", arr1)"
   ]
  },
  {
   "cell_type": "code",
   "execution_count": null,
   "metadata": {},
   "outputs": [],
   "source": []
  }
 ],
 "metadata": {
  "kernelspec": {
   "display_name": "Python 3",
   "language": "python",
   "name": "python3"
  },
  "language_info": {
   "codemirror_mode": {
    "name": "ipython",
    "version": 3
   },
   "file_extension": ".py",
   "mimetype": "text/x-python",
   "name": "python",
   "nbconvert_exporter": "python",
   "pygments_lexer": "ipython3",
   "version": "3.8.3"
  }
 },
 "nbformat": 4,
 "nbformat_minor": 4
}
