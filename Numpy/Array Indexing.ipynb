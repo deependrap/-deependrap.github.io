{
 "cells": [
  {
   "cell_type": "code",
   "execution_count": 2,
   "metadata": {},
   "outputs": [
    {
     "name": "stdout",
     "output_type": "stream",
     "text": [
      "Enter Size of Array: 6\n",
      "Enter Values of Array3\n",
      "Enter Values of Array4\n",
      "Enter Values of Array5\n",
      "Enter Values of Array6\n",
      "Enter Values of Array7\n",
      "Enter Values of Array8\n",
      "3\n",
      "4\n",
      "5\n",
      "6\n",
      "7\n",
      "8\n",
      "Sum of array elements is  33\n"
     ]
    }
   ],
   "source": [
    "import numpy as np\n",
    "a=[]\n",
    "n=int(input(\"Enter Size of Array: \"))\n",
    "for i in range(n):\n",
    "    val=int(input(\"Enter Values of Array\"))\n",
    "    a.append(val)\n",
    "arr=np.array(a)\n",
    "sum=0\n",
    "for i in range(arr.size):\n",
    "    print(arr[i])\n",
    "    sum=sum+arr[i]\n",
    "print(\"Sum of array elements is \", sum)    "
   ]
  }
 ],
 "metadata": {
  "kernelspec": {
   "display_name": "Python 3",
   "language": "python",
   "name": "python3"
  },
  "language_info": {
   "codemirror_mode": {
    "name": "ipython",
    "version": 3
   },
   "file_extension": ".py",
   "mimetype": "text/x-python",
   "name": "python",
   "nbconvert_exporter": "python",
   "pygments_lexer": "ipython3",
   "version": "3.8.3"
  }
 },
 "nbformat": 4,
 "nbformat_minor": 4
}
