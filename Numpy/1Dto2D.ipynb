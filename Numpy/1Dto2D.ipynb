{
 "cells": [
  {
   "cell_type": "code",
   "execution_count": 13,
   "metadata": {},
   "outputs": [
    {
     "name": "stdout",
     "output_type": "stream",
     "text": [
      "Original Array  [73 66 86 80 49 24 52 96 17 26 37  3]\n",
      "After transforming into 2D Array  [[73 66 86]\n",
      " [80 49 24]\n",
      " [52 96 17]\n",
      " [26 37  3]]\n",
      "Shape of Array is  (4, 3)\n",
      "3D Array is [[[73 66 86]\n",
      "  [80 49 24]]\n",
      "\n",
      " [[52 96 17]\n",
      "  [26 37  3]]]\n",
      "1D [73 66 86 80 49 24 52 96 17 26 37  3]\n"
     ]
    }
   ],
   "source": [
    "import numpy as np\n",
    "arr=np.random.randint(1,100,12)\n",
    "print(\"Original Array \", arr)\n",
    "\n",
    "# 1Dto2D\n",
    "arr=arr.reshape(4,3)\n",
    "print(\"After transforming into 2D Array \", arr)\n",
    "print(\"Shape of Array is \", arr.shape)\n",
    "\n",
    "# 2Dto3D\n",
    "arr=arr.reshape(2,2,3)\n",
    "print(\"3D Array is\", arr)\n",
    "\n",
    "# 3Dto1D\n",
    "arr= arr.reshape(12)\n",
    "print(\"1D\", arr)"
   ]
  }
 ],
 "metadata": {
  "kernelspec": {
   "display_name": "Python 3",
   "language": "python",
   "name": "python3"
  },
  "language_info": {
   "codemirror_mode": {
    "name": "ipython",
    "version": 3
   },
   "file_extension": ".py",
   "mimetype": "text/x-python",
   "name": "python",
   "nbconvert_exporter": "python",
   "pygments_lexer": "ipython3",
   "version": "3.8.3"
  }
 },
 "nbformat": 4,
 "nbformat_minor": 4
}
