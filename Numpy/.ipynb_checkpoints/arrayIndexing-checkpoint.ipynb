{
 "cells": [
  {
   "cell_type": "code",
   "execution_count": null,
   "metadata": {},
   "outputs": [],
   "source": [
    "import numpy as np\n",
    "a=[]\n",
    "n=int(input(\"Enter Size of Array: \"))\n",
    "for i in range(n):\n",
    "    val=int(input(\"Enter Values of Array\"))\n",
    "    a.append(val)\n",
    "arr=np.array(a)\n",
    "sum=0\n",
    "for in range(arr.size):\n",
    "    print(arr[i])\n",
    "    sum=sum+arr[i]\n",
    "print(\"Sum of array elements is \", sum)\n",
    "\n",
    "    "
   ]
  }
 ],
 "metadata": {
  "kernelspec": {
   "display_name": "Python 3",
   "language": "python",
   "name": "python3"
  },
  "language_info": {
   "codemirror_mode": {
    "name": "ipython",
    "version": 3
   },
   "file_extension": ".py",
   "mimetype": "text/x-python",
   "name": "python",
   "nbconvert_exporter": "python",
   "pygments_lexer": "ipython3",
   "version": "3.8.3"
  }
 },
 "nbformat": 4,
 "nbformat_minor": 4
}
