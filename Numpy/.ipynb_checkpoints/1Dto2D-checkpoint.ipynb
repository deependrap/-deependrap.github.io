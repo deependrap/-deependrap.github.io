{
 "cells": [
  {
   "cell_type": "code",
   "execution_count": 12,
   "metadata": {},
   "outputs": [
    {
     "name": "stdout",
     "output_type": "stream",
     "text": [
      "Original Array  [67  8 83 28 71 11 84 30 79 14 82 86]\n",
      "After transforming into 2D Array  [[67  8 83]\n",
      " [28 71 11]\n",
      " [84 30 79]\n",
      " [14 82 86]]\n",
      "Shape of Array is  (4, 3)\n",
      "3D Array is\n",
      "1D [67  8 83 28 71 11 84 30 79 14 82 86]\n"
     ]
    }
   ],
   "source": [
    "import numpy as np\n",
    "arr=np.random.randint(1,100,12)\n",
    "print(\"Original Array \", arr)\n",
    "# 1Dto2D\n",
    "arr=arr.reshape(4,3)\n",
    "print(\"After transforming into 2D Array \", arr)\n",
    "print(\"Shape of Array is \", arr.shape)\n",
    "\n",
    "# 2Dto3D\n",
    "arr=arr.reshape(2,2,3)\n",
    "print(\"3D Array is\", arr)\n",
    "\n",
    "# 3Dto1D\n",
    "arr= arr.reshape(12)\n",
    "print(\"1D\", arr)"
   ]
  }
 ],
 "metadata": {
  "kernelspec": {
   "display_name": "Python 3",
   "language": "python",
   "name": "python3"
  },
  "language_info": {
   "codemirror_mode": {
    "name": "ipython",
    "version": 3
   },
   "file_extension": ".py",
   "mimetype": "text/x-python",
   "name": "python",
   "nbconvert_exporter": "python",
   "pygments_lexer": "ipython3",
   "version": "3.8.3"
  }
 },
 "nbformat": 4,
 "nbformat_minor": 4
}
