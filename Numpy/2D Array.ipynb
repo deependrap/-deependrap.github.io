{
 "cells": [
  {
   "cell_type": "code",
   "execution_count": 3,
   "metadata": {},
   "outputs": [
    {
     "name": "stdout",
     "output_type": "stream",
     "text": [
      "Enter the Rows: 3\n",
      "Enter the Cols: 3\n",
      "Enter Number: 2\n",
      "Enter Number: 3\n",
      "Enter Number: 4\n",
      "Enter Number: 5\n",
      "Enter Number: 6\n",
      "Enter Number: 7\n",
      "Enter Number: 75\n",
      "Enter Number: 4\n",
      "Enter Number: 3\n",
      "2  3  4  \n",
      "5  6  7  \n",
      "75  4  3  \n",
      "<class 'numpy.ndarray'>\n"
     ]
    }
   ],
   "source": [
    "import numpy as np\n",
    "matrix =[]\n",
    "row=int(input(\"Enter the Rows: \"))\n",
    "col=int(input(\"Enter the Cols: \"))\n",
    "for i in range(row):\n",
    "    a=[]\n",
    "    for j in range(col):\n",
    "        val=int(input(\"Enter Number: \"))\n",
    "        a.append(val)\n",
    "    matrix.append(a)\n",
    "arr=np.array(matrix) #converting list into array\n",
    "for i in range(row):\n",
    "    for j in range(col):\n",
    "        print(arr[i][j], end=\"  \")\n",
    "    print()\n",
    "print(type(arr))\n",
    "    "
   ]
  }
 ],
 "metadata": {
  "kernelspec": {
   "display_name": "Python 3",
   "language": "python",
   "name": "python3"
  },
  "language_info": {
   "codemirror_mode": {
    "name": "ipython",
    "version": 3
   },
   "file_extension": ".py",
   "mimetype": "text/x-python",
   "name": "python",
   "nbconvert_exporter": "python",
   "pygments_lexer": "ipython3",
   "version": "3.8.3"
  }
 },
 "nbformat": 4,
 "nbformat_minor": 4
}
